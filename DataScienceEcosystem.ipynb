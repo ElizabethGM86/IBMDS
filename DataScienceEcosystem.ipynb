{
 "cells": [
  {
   "cell_type": "markdown",
   "id": "b64a7077",
   "metadata": {},
   "source": [
    "# Data Science Tools and Ecosystem"
   ]
  },
  {
   "cell_type": "markdown",
   "id": "3a8898da",
   "metadata": {},
   "source": [
    "In this notebook, Data Science Tools and Ecosystem are summarized."
   ]
  },
  {
   "cell_type": "markdown",
   "id": "2afc1958",
   "metadata": {},
   "source": [
    "Some of the popular languages taht Data Scientists use are:\n",
    "    \n",
    "    1. Python\n",
    "    2. R\n",
    "    3. SQL\n",
    "    4. Java\n",
    "    5. Scala\n",
    "    6. Julia"
   ]
  },
  {
   "cell_type": "markdown",
   "id": "867e5c36",
   "metadata": {},
   "source": [
    "Some of the commonly used libraries used by Data Scientists include:\n",
    "\n",
    "1. Pandas\n",
    "2. Numpy\n",
    "3. Sckit-learn\n",
    "4. Matplotlib\n",
    "5. Ggplot2\n",
    "6. Seaborn\n",
    "7. Pytorch"
   ]
  },
  {
   "cell_type": "markdown",
   "id": "71072b3c",
   "metadata": {},
   "source": [
    "## Data Science Tools\n",
    "\n",
    "1. RStudio\n",
    "2. Hadoop\n",
    "3. Apache Spark"
   ]
  },
  {
   "cell_type": "markdown",
   "id": "2da9b03f",
   "metadata": {},
   "source": [
    "### Below are a few examples of evaluating arithmetic expressions in Python\n",
    "\n",
    "1.\n",
    "\n",
    "a = 2\n",
    "b = 5\n",
    "\n",
    "print(a + b)\n",
    "\n",
    "2.  \n",
    "\n",
    "print(a > b)"
   ]
  },
  {
   "cell_type": "code",
   "execution_count": 2,
   "id": "012d868c",
   "metadata": {},
   "outputs": [
    {
     "data": {
      "text/plain": [
       "17"
      ]
     },
     "execution_count": 2,
     "metadata": {},
     "output_type": "execute_result"
    }
   ],
   "source": [
    "# Simple arithmetic expression to multiply intergers\n",
    "(3*4)+5"
   ]
  },
  {
   "cell_type": "code",
   "execution_count": 3,
   "id": "5c203322",
   "metadata": {},
   "outputs": [
    {
     "data": {
      "text/plain": [
       "3.3333333333333335"
      ]
     },
     "execution_count": 3,
     "metadata": {},
     "output_type": "execute_result"
    }
   ],
   "source": [
    "# This will convert 200 minutes to hours by dividing by 60\n",
    "200/60"
   ]
  },
  {
   "cell_type": "markdown",
   "id": "68cb62bd",
   "metadata": {},
   "source": [
    "# Objectives\n",
    "\n",
    "- List important languages for Data Science\n",
    "- List libraries used for Data Science\n",
    "- List Data Science Tools\n",
    "- Learn how to run code\n",
    "- Learn how to use Markdown cells"
   ]
  },
  {
   "cell_type": "markdown",
   "id": "e775d9dd",
   "metadata": {},
   "source": [
    "## Author\n",
    "Elizabeth Gutiérrez"
   ]
  },
  {
   "cell_type": "code",
   "execution_count": null,
   "id": "d8de00a1",
   "metadata": {},
   "outputs": [],
   "source": []
  }
 ],
 "metadata": {
  "kernelspec": {
   "display_name": "Python 3 (ipykernel)",
   "language": "python",
   "name": "python3"
  },
  "language_info": {
   "codemirror_mode": {
    "name": "ipython",
    "version": 3
   },
   "file_extension": ".py",
   "mimetype": "text/x-python",
   "name": "python",
   "nbconvert_exporter": "python",
   "pygments_lexer": "ipython3",
   "version": "3.9.13"
  }
 },
 "nbformat": 4,
 "nbformat_minor": 5
}
